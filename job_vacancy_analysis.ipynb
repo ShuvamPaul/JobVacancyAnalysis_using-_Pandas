{
 "cells": [
  {
   "cell_type": "markdown",
   "id": "829232f2-37bf-496b-b27e-023f044d9c95",
   "metadata": {},
   "source": [
    "## This script processes job vacancies data, performing initial cleaning tasks to prepare for in-depth analysis across various metrics such as job demand, geographic distribution, required skills, and industry trends."
   ]
  },
  {
   "cell_type": "markdown",
   "id": "7f5ca2b1-c1e2-4635-ab27-0b5aab618baf",
   "metadata": {},
   "source": [
    "**Step 1 : Importing modules**"
   ]
  },
  {
   "cell_type": "code",
   "execution_count": 1,
   "id": "0c8c377a-6b1d-42f8-8136-69f982003b74",
   "metadata": {},
   "outputs": [],
   "source": [
    "import pandas as pd\n",
    "from pathlib import Path\n",
    "import re\n",
    "from pandasql import sqldf"
   ]
  },
  {
   "cell_type": "markdown",
   "id": "ae7e6cbc-bf71-4592-9c70-136f0019dc1f",
   "metadata": {},
   "source": [
    "**Step 2 : Reading file from directory**"
   ]
  },
  {
   "cell_type": "code",
   "execution_count": 2,
   "id": "5c0ce7f7-dc86-47ef-b92e-5566fb0a5ccd",
   "metadata": {},
   "outputs": [],
   "source": [
    "job_vacancies = Path(\"C:/Users/Shuvam/Desktop/Learnings/Data/jobs_data/jobs_data.csv\")\n",
    "vacancies = pd.read_csv(job_vacancies.resolve(), sep=',')"
   ]
  },
  {
   "cell_type": "code",
   "execution_count": 3,
   "id": "055f8f7c-08b8-40c3-b9a9-b79ecf7ff3b0",
   "metadata": {},
   "outputs": [
    {
     "data": {
      "text/html": [
       "<div>\n",
       "<style scoped>\n",
       "    .dataframe tbody tr th:only-of-type {\n",
       "        vertical-align: middle;\n",
       "    }\n",
       "\n",
       "    .dataframe tbody tr th {\n",
       "        vertical-align: top;\n",
       "    }\n",
       "\n",
       "    .dataframe thead th {\n",
       "        text-align: right;\n",
       "    }\n",
       "</style>\n",
       "<table border=\"1\" class=\"dataframe\">\n",
       "  <thead>\n",
       "    <tr style=\"text-align: right;\">\n",
       "      <th></th>\n",
       "      <th>Job Name</th>\n",
       "      <th>Company Name</th>\n",
       "      <th>JD</th>\n",
       "      <th>Skills</th>\n",
       "      <th>Date Posted</th>\n",
       "      <th>YOE</th>\n",
       "      <th>Location</th>\n",
       "      <th>Website</th>\n",
       "      <th>Job Function:</th>\n",
       "      <th>Industry:</th>\n",
       "      <th>Specialization:</th>\n",
       "      <th>Qualification:</th>\n",
       "      <th>Hiring Location:</th>\n",
       "      <th>Role:</th>\n",
       "      <th>Vacancies:</th>\n",
       "    </tr>\n",
       "  </thead>\n",
       "  <tbody>\n",
       "    <tr>\n",
       "      <th>0</th>\n",
       "      <td>Python Engineer</td>\n",
       "      <td>east india securities ltd.</td>\n",
       "      <td>job_description   2  years of experience worki...</td>\n",
       "      <td>python,hadoop,machinelearning</td>\n",
       "      <td>Posted 5 days ago</td>\n",
       "      <td>2 - 5 yrs</td>\n",
       "      <td>Kolkata</td>\n",
       "      <td>http://www.eisec.com/</td>\n",
       "      <td>IT Software : Software Products &amp; Services</td>\n",
       "      <td>Petroleum/Oil and Gas/Power,  Construction/Cem...</td>\n",
       "      <td>Software Engineer</td>\n",
       "      <td>Any Graduate</td>\n",
       "      <td>NaN</td>\n",
       "      <td>NaN</td>\n",
       "      <td>NaN</td>\n",
       "    </tr>\n",
       "    <tr>\n",
       "      <th>1</th>\n",
       "      <td>PYTHON DEVELOPER</td>\n",
       "      <td>DREAMAJAX TECHNOLOGIES</td>\n",
       "      <td>PYTHON DEVELOPER B.E / B.Tech / MCA / M.Sc., o...</td>\n",
       "      <td>python,django,api,sql,nosql</td>\n",
       "      <td>Posted 6 days ago</td>\n",
       "      <td>4 - 7 yrs</td>\n",
       "      <td>Bengaluru / Bangalore</td>\n",
       "      <td>NaN</td>\n",
       "      <td>IT Software : Software Products &amp; Services</td>\n",
       "      <td>Telecom,  IT-Hardware/Networking</td>\n",
       "      <td>Software Engineer</td>\n",
       "      <td>MCA/ PGDCA\\r\\n                    \\r\\n        ...</td>\n",
       "      <td>NaN</td>\n",
       "      <td>NaN</td>\n",
       "      <td>NaN</td>\n",
       "    </tr>\n",
       "    <tr>\n",
       "      <th>2</th>\n",
       "      <td>Python Developer</td>\n",
       "      <td>InnOvator Web Solutions Pvt.Ltd.</td>\n",
       "      <td>Job Category: DevelopmentJob Type: Full TimeJo...</td>\n",
       "      <td>rest,python,django,webdeveloper,mysql,api</td>\n",
       "      <td>Posted 6 days ago</td>\n",
       "      <td>5 - 8 yrs</td>\n",
       "      <td>Mumbai</td>\n",
       "      <td>http://www.innovatorwebsolutions.com</td>\n",
       "      <td>IT Software : Software Products &amp; Services</td>\n",
       "      <td>IT-Hardware/Networking,  Telecom</td>\n",
       "      <td>Software Engineer</td>\n",
       "      <td>Any Graduate</td>\n",
       "      <td>NaN</td>\n",
       "      <td>NaN</td>\n",
       "      <td>NaN</td>\n",
       "    </tr>\n",
       "  </tbody>\n",
       "</table>\n",
       "</div>"
      ],
      "text/plain": [
       "           Job Name                      Company Name  \\\n",
       "0   Python Engineer        east india securities ltd.   \n",
       "1  PYTHON DEVELOPER            DREAMAJAX TECHNOLOGIES   \n",
       "2  Python Developer  InnOvator Web Solutions Pvt.Ltd.   \n",
       "\n",
       "                                                  JD  \\\n",
       "0  job_description   2  years of experience worki...   \n",
       "1  PYTHON DEVELOPER B.E / B.Tech / MCA / M.Sc., o...   \n",
       "2  Job Category: DevelopmentJob Type: Full TimeJo...   \n",
       "\n",
       "                                      Skills        Date Posted        YOE  \\\n",
       "0              python,hadoop,machinelearning  Posted 5 days ago  2 - 5 yrs   \n",
       "1                python,django,api,sql,nosql  Posted 6 days ago  4 - 7 yrs   \n",
       "2  rest,python,django,webdeveloper,mysql,api  Posted 6 days ago  5 - 8 yrs   \n",
       "\n",
       "                Location                               Website  \\\n",
       "0                Kolkata                 http://www.eisec.com/   \n",
       "1  Bengaluru / Bangalore                                   NaN   \n",
       "2                 Mumbai  http://www.innovatorwebsolutions.com   \n",
       "\n",
       "                                Job Function:  \\\n",
       "0  IT Software : Software Products & Services   \n",
       "1  IT Software : Software Products & Services   \n",
       "2  IT Software : Software Products & Services   \n",
       "\n",
       "                                           Industry:    Specialization:  \\\n",
       "0  Petroleum/Oil and Gas/Power,  Construction/Cem...  Software Engineer   \n",
       "1                   Telecom,  IT-Hardware/Networking  Software Engineer   \n",
       "2                   IT-Hardware/Networking,  Telecom  Software Engineer   \n",
       "\n",
       "                                      Qualification: Hiring Location: Role:  \\\n",
       "0                                       Any Graduate              NaN   NaN   \n",
       "1  MCA/ PGDCA\\r\\n                    \\r\\n        ...              NaN   NaN   \n",
       "2                                       Any Graduate              NaN   NaN   \n",
       "\n",
       "   Vacancies:  \n",
       "0         NaN  \n",
       "1         NaN  \n",
       "2         NaN  "
      ]
     },
     "execution_count": 3,
     "metadata": {},
     "output_type": "execute_result"
    }
   ],
   "source": [
    "vacancies.head(3)"
   ]
  },
  {
   "cell_type": "markdown",
   "id": "452cafdf-41d2-4e8d-bae5-fd03a6cbfdfe",
   "metadata": {},
   "source": [
    "**Step 3 : Explore the data (Shape, Nulls)**"
   ]
  },
  {
   "cell_type": "code",
   "execution_count": 4,
   "id": "0af3806d-43b7-446f-b66f-22de49913e46",
   "metadata": {},
   "outputs": [
    {
     "data": {
      "text/plain": [
       "(2250, 15)"
      ]
     },
     "execution_count": 4,
     "metadata": {},
     "output_type": "execute_result"
    }
   ],
   "source": [
    "vacancies.shape"
   ]
  },
  {
   "cell_type": "code",
   "execution_count": 5,
   "id": "6b05c767-9bbe-477a-bd25-a89a6a22c767",
   "metadata": {},
   "outputs": [
    {
     "data": {
      "text/plain": [
       "Location              71\n",
       "Website              296\n",
       "Hiring Location:    2244\n",
       "Role:               2163\n",
       "Vacancies:          2238\n",
       "dtype: int64"
      ]
     },
     "execution_count": 5,
     "metadata": {},
     "output_type": "execute_result"
    }
   ],
   "source": [
    "vacancies[vacancies.columns[vacancies.isnull().any()]].isnull().sum()"
   ]
  },
  {
   "cell_type": "markdown",
   "id": "426c73fe-6f0f-4699-a0d7-1f34e397faf1",
   "metadata": {
    "jp-MarkdownHeadingCollapsed": true
   },
   "source": [
    "Note :  We are able to see that the columns \"Hiring Location\" , \"Role\", \"Vacancies\" contain maximum number of nulls and the above columns are not required for our analysis, we can remove the columns from our dataframe"
   ]
  },
  {
   "cell_type": "markdown",
   "id": "0246f0ef-3fbd-4b0f-95a2-e50f2dc9ac03",
   "metadata": {},
   "source": [
    "**Step 4 : Eliminating unrequired columns**"
   ]
  },
  {
   "cell_type": "code",
   "execution_count": 6,
   "id": "dcdc37cf-c8ec-4a35-9c49-77baf487d2d7",
   "metadata": {},
   "outputs": [],
   "source": [
    "vacancies = vacancies.drop([\"Hiring Location:\",\"Role:\"],axis = 1)"
   ]
  },
  {
   "cell_type": "code",
   "execution_count": 7,
   "id": "ef3ecbc4-fafe-4e3c-a9e8-1b83b63e392b",
   "metadata": {},
   "outputs": [
    {
     "data": {
      "text/html": [
       "<div>\n",
       "<style scoped>\n",
       "    .dataframe tbody tr th:only-of-type {\n",
       "        vertical-align: middle;\n",
       "    }\n",
       "\n",
       "    .dataframe tbody tr th {\n",
       "        vertical-align: top;\n",
       "    }\n",
       "\n",
       "    .dataframe thead th {\n",
       "        text-align: right;\n",
       "    }\n",
       "</style>\n",
       "<table border=\"1\" class=\"dataframe\">\n",
       "  <thead>\n",
       "    <tr style=\"text-align: right;\">\n",
       "      <th></th>\n",
       "      <th>Job Name</th>\n",
       "      <th>Company Name</th>\n",
       "      <th>JD</th>\n",
       "      <th>Skills</th>\n",
       "      <th>Date Posted</th>\n",
       "      <th>YOE</th>\n",
       "      <th>Location</th>\n",
       "      <th>Website</th>\n",
       "      <th>Job Function:</th>\n",
       "      <th>Industry:</th>\n",
       "      <th>Specialization:</th>\n",
       "      <th>Qualification:</th>\n",
       "      <th>Vacancies:</th>\n",
       "    </tr>\n",
       "  </thead>\n",
       "  <tbody>\n",
       "    <tr>\n",
       "      <th>0</th>\n",
       "      <td>Python Engineer</td>\n",
       "      <td>east india securities ltd.</td>\n",
       "      <td>job_description   2  years of experience worki...</td>\n",
       "      <td>python,hadoop,machinelearning</td>\n",
       "      <td>Posted 5 days ago</td>\n",
       "      <td>2 - 5 yrs</td>\n",
       "      <td>Kolkata</td>\n",
       "      <td>http://www.eisec.com/</td>\n",
       "      <td>IT Software : Software Products &amp; Services</td>\n",
       "      <td>Petroleum/Oil and Gas/Power,  Construction/Cem...</td>\n",
       "      <td>Software Engineer</td>\n",
       "      <td>Any Graduate</td>\n",
       "      <td>NaN</td>\n",
       "    </tr>\n",
       "    <tr>\n",
       "      <th>1</th>\n",
       "      <td>PYTHON DEVELOPER</td>\n",
       "      <td>DREAMAJAX TECHNOLOGIES</td>\n",
       "      <td>PYTHON DEVELOPER B.E / B.Tech / MCA / M.Sc., o...</td>\n",
       "      <td>python,django,api,sql,nosql</td>\n",
       "      <td>Posted 6 days ago</td>\n",
       "      <td>4 - 7 yrs</td>\n",
       "      <td>Bengaluru / Bangalore</td>\n",
       "      <td>NaN</td>\n",
       "      <td>IT Software : Software Products &amp; Services</td>\n",
       "      <td>Telecom,  IT-Hardware/Networking</td>\n",
       "      <td>Software Engineer</td>\n",
       "      <td>MCA/ PGDCA\\r\\n                    \\r\\n        ...</td>\n",
       "      <td>NaN</td>\n",
       "    </tr>\n",
       "    <tr>\n",
       "      <th>2</th>\n",
       "      <td>Python Developer</td>\n",
       "      <td>InnOvator Web Solutions Pvt.Ltd.</td>\n",
       "      <td>Job Category: DevelopmentJob Type: Full TimeJo...</td>\n",
       "      <td>rest,python,django,webdeveloper,mysql,api</td>\n",
       "      <td>Posted 6 days ago</td>\n",
       "      <td>5 - 8 yrs</td>\n",
       "      <td>Mumbai</td>\n",
       "      <td>http://www.innovatorwebsolutions.com</td>\n",
       "      <td>IT Software : Software Products &amp; Services</td>\n",
       "      <td>IT-Hardware/Networking,  Telecom</td>\n",
       "      <td>Software Engineer</td>\n",
       "      <td>Any Graduate</td>\n",
       "      <td>NaN</td>\n",
       "    </tr>\n",
       "  </tbody>\n",
       "</table>\n",
       "</div>"
      ],
      "text/plain": [
       "           Job Name                      Company Name  \\\n",
       "0   Python Engineer        east india securities ltd.   \n",
       "1  PYTHON DEVELOPER            DREAMAJAX TECHNOLOGIES   \n",
       "2  Python Developer  InnOvator Web Solutions Pvt.Ltd.   \n",
       "\n",
       "                                                  JD  \\\n",
       "0  job_description   2  years of experience worki...   \n",
       "1  PYTHON DEVELOPER B.E / B.Tech / MCA / M.Sc., o...   \n",
       "2  Job Category: DevelopmentJob Type: Full TimeJo...   \n",
       "\n",
       "                                      Skills        Date Posted        YOE  \\\n",
       "0              python,hadoop,machinelearning  Posted 5 days ago  2 - 5 yrs   \n",
       "1                python,django,api,sql,nosql  Posted 6 days ago  4 - 7 yrs   \n",
       "2  rest,python,django,webdeveloper,mysql,api  Posted 6 days ago  5 - 8 yrs   \n",
       "\n",
       "                Location                               Website  \\\n",
       "0                Kolkata                 http://www.eisec.com/   \n",
       "1  Bengaluru / Bangalore                                   NaN   \n",
       "2                 Mumbai  http://www.innovatorwebsolutions.com   \n",
       "\n",
       "                                Job Function:  \\\n",
       "0  IT Software : Software Products & Services   \n",
       "1  IT Software : Software Products & Services   \n",
       "2  IT Software : Software Products & Services   \n",
       "\n",
       "                                           Industry:    Specialization:  \\\n",
       "0  Petroleum/Oil and Gas/Power,  Construction/Cem...  Software Engineer   \n",
       "1                   Telecom,  IT-Hardware/Networking  Software Engineer   \n",
       "2                   IT-Hardware/Networking,  Telecom  Software Engineer   \n",
       "\n",
       "                                      Qualification:  Vacancies:  \n",
       "0                                       Any Graduate         NaN  \n",
       "1  MCA/ PGDCA\\r\\n                    \\r\\n        ...         NaN  \n",
       "2                                       Any Graduate         NaN  "
      ]
     },
     "execution_count": 7,
     "metadata": {},
     "output_type": "execute_result"
    }
   ],
   "source": [
    "vacancies.head(3)"
   ]
  },
  {
   "cell_type": "markdown",
   "id": "b4ca4df9-de21-4007-8791-e9f70208cf48",
   "metadata": {},
   "source": [
    "**Step 5 : Eliminating the \":\" from the column names**"
   ]
  },
  {
   "cell_type": "code",
   "execution_count": 8,
   "id": "eab14c7d-9cda-43f1-8e9e-d68102154b6e",
   "metadata": {},
   "outputs": [],
   "source": [
    "vacancies.rename(columns = lambda x:x.replace(':',''), inplace = True )"
   ]
  },
  {
   "cell_type": "code",
   "execution_count": 9,
   "id": "feb2c1a5-438c-463d-be5d-ba9b730867a7",
   "metadata": {},
   "outputs": [
    {
     "data": {
      "text/html": [
       "<div>\n",
       "<style scoped>\n",
       "    .dataframe tbody tr th:only-of-type {\n",
       "        vertical-align: middle;\n",
       "    }\n",
       "\n",
       "    .dataframe tbody tr th {\n",
       "        vertical-align: top;\n",
       "    }\n",
       "\n",
       "    .dataframe thead th {\n",
       "        text-align: right;\n",
       "    }\n",
       "</style>\n",
       "<table border=\"1\" class=\"dataframe\">\n",
       "  <thead>\n",
       "    <tr style=\"text-align: right;\">\n",
       "      <th></th>\n",
       "      <th>Job Name</th>\n",
       "      <th>Company Name</th>\n",
       "      <th>JD</th>\n",
       "      <th>Skills</th>\n",
       "      <th>Date Posted</th>\n",
       "      <th>YOE</th>\n",
       "      <th>Location</th>\n",
       "      <th>Website</th>\n",
       "      <th>Job Function</th>\n",
       "      <th>Industry</th>\n",
       "      <th>Specialization</th>\n",
       "      <th>Qualification</th>\n",
       "      <th>Vacancies</th>\n",
       "    </tr>\n",
       "  </thead>\n",
       "  <tbody>\n",
       "    <tr>\n",
       "      <th>0</th>\n",
       "      <td>Python Engineer</td>\n",
       "      <td>east india securities ltd.</td>\n",
       "      <td>job_description   2  years of experience worki...</td>\n",
       "      <td>python,hadoop,machinelearning</td>\n",
       "      <td>Posted 5 days ago</td>\n",
       "      <td>2 - 5 yrs</td>\n",
       "      <td>Kolkata</td>\n",
       "      <td>http://www.eisec.com/</td>\n",
       "      <td>IT Software : Software Products &amp; Services</td>\n",
       "      <td>Petroleum/Oil and Gas/Power,  Construction/Cem...</td>\n",
       "      <td>Software Engineer</td>\n",
       "      <td>Any Graduate</td>\n",
       "      <td>NaN</td>\n",
       "    </tr>\n",
       "    <tr>\n",
       "      <th>1</th>\n",
       "      <td>PYTHON DEVELOPER</td>\n",
       "      <td>DREAMAJAX TECHNOLOGIES</td>\n",
       "      <td>PYTHON DEVELOPER B.E / B.Tech / MCA / M.Sc., o...</td>\n",
       "      <td>python,django,api,sql,nosql</td>\n",
       "      <td>Posted 6 days ago</td>\n",
       "      <td>4 - 7 yrs</td>\n",
       "      <td>Bengaluru / Bangalore</td>\n",
       "      <td>NaN</td>\n",
       "      <td>IT Software : Software Products &amp; Services</td>\n",
       "      <td>Telecom,  IT-Hardware/Networking</td>\n",
       "      <td>Software Engineer</td>\n",
       "      <td>MCA/ PGDCA\\r\\n                    \\r\\n        ...</td>\n",
       "      <td>NaN</td>\n",
       "    </tr>\n",
       "  </tbody>\n",
       "</table>\n",
       "</div>"
      ],
      "text/plain": [
       "           Job Name                Company Name  \\\n",
       "0   Python Engineer  east india securities ltd.   \n",
       "1  PYTHON DEVELOPER      DREAMAJAX TECHNOLOGIES   \n",
       "\n",
       "                                                  JD  \\\n",
       "0  job_description   2  years of experience worki...   \n",
       "1  PYTHON DEVELOPER B.E / B.Tech / MCA / M.Sc., o...   \n",
       "\n",
       "                          Skills        Date Posted        YOE  \\\n",
       "0  python,hadoop,machinelearning  Posted 5 days ago  2 - 5 yrs   \n",
       "1    python,django,api,sql,nosql  Posted 6 days ago  4 - 7 yrs   \n",
       "\n",
       "                Location                Website  \\\n",
       "0                Kolkata  http://www.eisec.com/   \n",
       "1  Bengaluru / Bangalore                    NaN   \n",
       "\n",
       "                                 Job Function  \\\n",
       "0  IT Software : Software Products & Services   \n",
       "1  IT Software : Software Products & Services   \n",
       "\n",
       "                                            Industry     Specialization  \\\n",
       "0  Petroleum/Oil and Gas/Power,  Construction/Cem...  Software Engineer   \n",
       "1                   Telecom,  IT-Hardware/Networking  Software Engineer   \n",
       "\n",
       "                                       Qualification  Vacancies  \n",
       "0                                       Any Graduate        NaN  \n",
       "1  MCA/ PGDCA\\r\\n                    \\r\\n        ...        NaN  "
      ]
     },
     "execution_count": 9,
     "metadata": {},
     "output_type": "execute_result"
    }
   ],
   "source": [
    "vacancies.head(2)"
   ]
  },
  {
   "cell_type": "markdown",
   "id": "40ffc363-01e9-450c-92bc-0b4b7d12fa15",
   "metadata": {},
   "source": [
    "**Step 6 : Standardize the Job names in camel casing**"
   ]
  },
  {
   "cell_type": "code",
   "execution_count": 10,
   "id": "48e34e9c-9558-4545-a84a-5c5308dab25f",
   "metadata": {},
   "outputs": [],
   "source": [
    "# create a function to convert a string to camel case\n",
    "def to_camel(s):\n",
    "    part = s.split()\n",
    "    cc = [part[0].capitalize()] + [word.title() for word in part[1:]]\n",
    "    return '  '.join(cc)"
   ]
  },
  {
   "cell_type": "code",
   "execution_count": 11,
   "id": "e7c8a195-7917-4b43-ad17-762576aefb16",
   "metadata": {},
   "outputs": [],
   "source": [
    "# Applying the function on Job Name\n",
    "vacancies[\"Job Name\"] = vacancies['Job Name'].apply(to_camel)"
   ]
  },
  {
   "cell_type": "code",
   "execution_count": 12,
   "id": "9e1f28ab-ce0a-4483-bec9-46faf79be011",
   "metadata": {},
   "outputs": [],
   "source": [
    "#vacancies = vacancies.drop([\"Job Name Camel\"],axis = 1)"
   ]
  },
  {
   "cell_type": "code",
   "execution_count": 13,
   "id": "fd6168d8-9918-4e22-9a02-3bd4293011c4",
   "metadata": {},
   "outputs": [],
   "source": [
    "# uppercase company name\n",
    "\n",
    "vacancies['Company Name'] = vacancies['Company Name'].str.upper()"
   ]
  },
  {
   "cell_type": "code",
   "execution_count": 14,
   "id": "50edeebf-2e3a-4dc1-beca-6e198f2bac8d",
   "metadata": {},
   "outputs": [],
   "source": [
    "# lowercase skills\n",
    "\n",
    "vacancies['Skills'] = vacancies['Skills'].str.lower()"
   ]
  },
  {
   "cell_type": "markdown",
   "id": "2530589f-7954-4a08-986e-f6a5e652d66a",
   "metadata": {},
   "source": [
    "**Step 7 : Check for work from home or work from office and create a separate column**"
   ]
  },
  {
   "cell_type": "code",
   "execution_count": 15,
   "id": "54d4d20c-ffd9-4c6a-91b0-aaaf0ecf0269",
   "metadata": {},
   "outputs": [],
   "source": [
    "# Creating a function for WFH and WFO\n",
    "\n",
    "def work_loc(location):\n",
    "    if 'Work from Home' in location.lower():\n",
    "        return 'Work from Home'\n",
    "    else :\n",
    "        return 'Work from Office'"
   ]
  },
  {
   "cell_type": "code",
   "execution_count": 16,
   "id": "4ae976d2-6051-4aea-a58a-200916a1b1b5",
   "metadata": {},
   "outputs": [],
   "source": [
    "#Applying the function to get the work location\n",
    "\n",
    "vacancies[\"Work Location\"] = vacancies[\"Date Posted\"].apply(work_loc)"
   ]
  },
  {
   "cell_type": "markdown",
   "id": "d099b74f-a8ec-492c-9ed0-17cbaf2bd601",
   "metadata": {},
   "source": [
    "**Step 8 : Extract the days before its posted**"
   ]
  },
  {
   "cell_type": "code",
   "execution_count": 17,
   "id": "7eeb1d81-c8de-4f06-a394-7e1d999add22",
   "metadata": {},
   "outputs": [],
   "source": [
    "# Function to extract number of days\n",
    "\n",
    "def no_of_days(days):\n",
    "    pattern = r'(\\d+) day(?:s)? ago'\n",
    "    match = re.search(pattern, days)\n",
    "    if match:\n",
    "        return (match.group(1)) + \" \" + \"days\"\n",
    "    elif 'few' in days:\n",
    "        return \"few\" + \" \" +\"days\" # Assuming 'few' means around 3 days\n",
    "    elif 'today' in days:\n",
    "        return \"1\" + \" \" +\"days\" # Assuming 'yesterday' means 1 day ago\n",
    "    elif 'month' in days:\n",
    "        return \"month\" + \" \" +\"ago\"  # Assuming 'yesterday' means 1 day ago\n",
    "    else:\n",
    "        return None"
   ]
  },
  {
   "cell_type": "code",
   "execution_count": 18,
   "id": "778bc6f3-6364-472e-acdf-8786b889d415",
   "metadata": {},
   "outputs": [],
   "source": [
    "vacancies['Posted'] = vacancies['Date Posted'].apply(no_of_days)"
   ]
  },
  {
   "cell_type": "code",
   "execution_count": 19,
   "id": "9775108d-6d68-4fa3-93d9-f534ce6880f7",
   "metadata": {},
   "outputs": [
    {
     "data": {
      "text/html": [
       "<div>\n",
       "<style scoped>\n",
       "    .dataframe tbody tr th:only-of-type {\n",
       "        vertical-align: middle;\n",
       "    }\n",
       "\n",
       "    .dataframe tbody tr th {\n",
       "        vertical-align: top;\n",
       "    }\n",
       "\n",
       "    .dataframe thead th {\n",
       "        text-align: right;\n",
       "    }\n",
       "</style>\n",
       "<table border=\"1\" class=\"dataframe\">\n",
       "  <thead>\n",
       "    <tr style=\"text-align: right;\">\n",
       "      <th></th>\n",
       "      <th>Job Name</th>\n",
       "      <th>Company Name</th>\n",
       "      <th>JD</th>\n",
       "      <th>Skills</th>\n",
       "      <th>Date Posted</th>\n",
       "      <th>YOE</th>\n",
       "      <th>Location</th>\n",
       "      <th>Website</th>\n",
       "      <th>Job Function</th>\n",
       "      <th>Industry</th>\n",
       "      <th>Specialization</th>\n",
       "      <th>Qualification</th>\n",
       "      <th>Vacancies</th>\n",
       "      <th>Work Location</th>\n",
       "      <th>Posted</th>\n",
       "    </tr>\n",
       "  </thead>\n",
       "  <tbody>\n",
       "    <tr>\n",
       "      <th>0</th>\n",
       "      <td>Python  Engineer</td>\n",
       "      <td>EAST INDIA SECURITIES LTD.</td>\n",
       "      <td>job_description   2  years of experience worki...</td>\n",
       "      <td>python,hadoop,machinelearning</td>\n",
       "      <td>Posted 5 days ago</td>\n",
       "      <td>2 - 5 yrs</td>\n",
       "      <td>Kolkata</td>\n",
       "      <td>http://www.eisec.com/</td>\n",
       "      <td>IT Software : Software Products &amp; Services</td>\n",
       "      <td>Petroleum/Oil and Gas/Power,  Construction/Cem...</td>\n",
       "      <td>Software Engineer</td>\n",
       "      <td>Any Graduate</td>\n",
       "      <td>NaN</td>\n",
       "      <td>Work from Office</td>\n",
       "      <td>5 days</td>\n",
       "    </tr>\n",
       "    <tr>\n",
       "      <th>1</th>\n",
       "      <td>Python  Developer</td>\n",
       "      <td>DREAMAJAX TECHNOLOGIES</td>\n",
       "      <td>PYTHON DEVELOPER B.E / B.Tech / MCA / M.Sc., o...</td>\n",
       "      <td>python,django,api,sql,nosql</td>\n",
       "      <td>Posted 6 days ago</td>\n",
       "      <td>4 - 7 yrs</td>\n",
       "      <td>Bengaluru / Bangalore</td>\n",
       "      <td>NaN</td>\n",
       "      <td>IT Software : Software Products &amp; Services</td>\n",
       "      <td>Telecom,  IT-Hardware/Networking</td>\n",
       "      <td>Software Engineer</td>\n",
       "      <td>MCA/ PGDCA\\r\\n                    \\r\\n        ...</td>\n",
       "      <td>NaN</td>\n",
       "      <td>Work from Office</td>\n",
       "      <td>6 days</td>\n",
       "    </tr>\n",
       "    <tr>\n",
       "      <th>2</th>\n",
       "      <td>Python  Developer</td>\n",
       "      <td>INNOVATOR WEB SOLUTIONS PVT.LTD.</td>\n",
       "      <td>Job Category: DevelopmentJob Type: Full TimeJo...</td>\n",
       "      <td>rest,python,django,webdeveloper,mysql,api</td>\n",
       "      <td>Posted 6 days ago</td>\n",
       "      <td>5 - 8 yrs</td>\n",
       "      <td>Mumbai</td>\n",
       "      <td>http://www.innovatorwebsolutions.com</td>\n",
       "      <td>IT Software : Software Products &amp; Services</td>\n",
       "      <td>IT-Hardware/Networking,  Telecom</td>\n",
       "      <td>Software Engineer</td>\n",
       "      <td>Any Graduate</td>\n",
       "      <td>NaN</td>\n",
       "      <td>Work from Office</td>\n",
       "      <td>6 days</td>\n",
       "    </tr>\n",
       "    <tr>\n",
       "      <th>3</th>\n",
       "      <td>Python  -  Odoo</td>\n",
       "      <td>AXISTECHNOLABS</td>\n",
       "      <td>Responsibilities : We are looking for Freshers...</td>\n",
       "      <td>python,django,itskills,html5,api,jquery</td>\n",
       "      <td>Posted 6 days ago</td>\n",
       "      <td>0 - 1 yrs</td>\n",
       "      <td>Ahmedabad</td>\n",
       "      <td>http://www.axistechnolabs.com</td>\n",
       "      <td>IT Software : Software Products &amp; Services</td>\n",
       "      <td>IT-Hardware/Networking,  Telecom</td>\n",
       "      <td>Software Engineer</td>\n",
       "      <td>MCA/ PGDCA\\r\\n                    \\r\\n        ...</td>\n",
       "      <td>NaN</td>\n",
       "      <td>Work from Office</td>\n",
       "      <td>6 days</td>\n",
       "    </tr>\n",
       "    <tr>\n",
       "      <th>4</th>\n",
       "      <td>Python  Developer</td>\n",
       "      <td>PEARL GLOBAL SOLUTIONS</td>\n",
       "      <td>Python Developer  Django Job Type : Full time,...</td>\n",
       "      <td>python,database,django,teamplayer,sql</td>\n",
       "      <td>Posted 6 days ago</td>\n",
       "      <td>4 - 7 yrs</td>\n",
       "      <td>Cochin/ Kochi/ Ernakulam</td>\n",
       "      <td>https://pearlglobalsolutions.com/</td>\n",
       "      <td>IT Software : Software Products &amp; Services</td>\n",
       "      <td>IT-Hardware/Networking,  Telecom</td>\n",
       "      <td>Software Engineer</td>\n",
       "      <td>Any Graduate</td>\n",
       "      <td>NaN</td>\n",
       "      <td>Work from Office</td>\n",
       "      <td>6 days</td>\n",
       "    </tr>\n",
       "  </tbody>\n",
       "</table>\n",
       "</div>"
      ],
      "text/plain": [
       "            Job Name                      Company Name  \\\n",
       "0   Python  Engineer        EAST INDIA SECURITIES LTD.   \n",
       "1  Python  Developer            DREAMAJAX TECHNOLOGIES   \n",
       "2  Python  Developer  INNOVATOR WEB SOLUTIONS PVT.LTD.   \n",
       "3    Python  -  Odoo                    AXISTECHNOLABS   \n",
       "4  Python  Developer            PEARL GLOBAL SOLUTIONS   \n",
       "\n",
       "                                                  JD  \\\n",
       "0  job_description   2  years of experience worki...   \n",
       "1  PYTHON DEVELOPER B.E / B.Tech / MCA / M.Sc., o...   \n",
       "2  Job Category: DevelopmentJob Type: Full TimeJo...   \n",
       "3  Responsibilities : We are looking for Freshers...   \n",
       "4  Python Developer  Django Job Type : Full time,...   \n",
       "\n",
       "                                      Skills        Date Posted        YOE  \\\n",
       "0              python,hadoop,machinelearning  Posted 5 days ago  2 - 5 yrs   \n",
       "1                python,django,api,sql,nosql  Posted 6 days ago  4 - 7 yrs   \n",
       "2  rest,python,django,webdeveloper,mysql,api  Posted 6 days ago  5 - 8 yrs   \n",
       "3    python,django,itskills,html5,api,jquery  Posted 6 days ago  0 - 1 yrs   \n",
       "4      python,database,django,teamplayer,sql  Posted 6 days ago  4 - 7 yrs   \n",
       "\n",
       "                   Location                               Website  \\\n",
       "0                   Kolkata                 http://www.eisec.com/   \n",
       "1     Bengaluru / Bangalore                                   NaN   \n",
       "2                    Mumbai  http://www.innovatorwebsolutions.com   \n",
       "3                 Ahmedabad         http://www.axistechnolabs.com   \n",
       "4  Cochin/ Kochi/ Ernakulam     https://pearlglobalsolutions.com/   \n",
       "\n",
       "                                 Job Function  \\\n",
       "0  IT Software : Software Products & Services   \n",
       "1  IT Software : Software Products & Services   \n",
       "2  IT Software : Software Products & Services   \n",
       "3  IT Software : Software Products & Services   \n",
       "4  IT Software : Software Products & Services   \n",
       "\n",
       "                                            Industry     Specialization  \\\n",
       "0  Petroleum/Oil and Gas/Power,  Construction/Cem...  Software Engineer   \n",
       "1                   Telecom,  IT-Hardware/Networking  Software Engineer   \n",
       "2                   IT-Hardware/Networking,  Telecom  Software Engineer   \n",
       "3                   IT-Hardware/Networking,  Telecom  Software Engineer   \n",
       "4                   IT-Hardware/Networking,  Telecom  Software Engineer   \n",
       "\n",
       "                                       Qualification  Vacancies  \\\n",
       "0                                       Any Graduate        NaN   \n",
       "1  MCA/ PGDCA\\r\\n                    \\r\\n        ...        NaN   \n",
       "2                                       Any Graduate        NaN   \n",
       "3  MCA/ PGDCA\\r\\n                    \\r\\n        ...        NaN   \n",
       "4                                       Any Graduate        NaN   \n",
       "\n",
       "      Work Location  Posted  \n",
       "0  Work from Office  5 days  \n",
       "1  Work from Office  6 days  \n",
       "2  Work from Office  6 days  \n",
       "3  Work from Office  6 days  \n",
       "4  Work from Office  6 days  "
      ]
     },
     "execution_count": 19,
     "metadata": {},
     "output_type": "execute_result"
    }
   ],
   "source": [
    "vacancies.head()"
   ]
  },
  {
   "cell_type": "code",
   "execution_count": 20,
   "id": "d5664cf2-29e4-4d15-b45c-7321fce98fc2",
   "metadata": {},
   "outputs": [],
   "source": [
    "# Drop Date Posted column\n",
    "\n",
    "vacancies = vacancies.drop([\"Date Posted\"],axis = 1)"
   ]
  },
  {
   "cell_type": "code",
   "execution_count": 21,
   "id": "9a20495d-c95a-40c0-916c-f85d24bd6a50",
   "metadata": {},
   "outputs": [],
   "source": [
    "# Initializing sql for testing the changes\n",
    "pysqldf = lambda q1: sqldf(q1, globals())"
   ]
  },
  {
   "cell_type": "code",
   "execution_count": 22,
   "id": "0083a727-6be5-4e47-a656-f4ca781922c6",
   "metadata": {},
   "outputs": [
    {
     "data": {
      "text/html": [
       "<div>\n",
       "<style scoped>\n",
       "    .dataframe tbody tr th:only-of-type {\n",
       "        vertical-align: middle;\n",
       "    }\n",
       "\n",
       "    .dataframe tbody tr th {\n",
       "        vertical-align: top;\n",
       "    }\n",
       "\n",
       "    .dataframe thead th {\n",
       "        text-align: right;\n",
       "    }\n",
       "</style>\n",
       "<table border=\"1\" class=\"dataframe\">\n",
       "  <thead>\n",
       "    <tr style=\"text-align: right;\">\n",
       "      <th></th>\n",
       "      <th>Job Name</th>\n",
       "      <th>Company Name</th>\n",
       "      <th>JD</th>\n",
       "      <th>Skills</th>\n",
       "      <th>YOE</th>\n",
       "      <th>Location</th>\n",
       "      <th>Website</th>\n",
       "      <th>Job Function</th>\n",
       "      <th>Industry</th>\n",
       "      <th>Specialization</th>\n",
       "      <th>Qualification</th>\n",
       "      <th>Vacancies</th>\n",
       "      <th>Work Location</th>\n",
       "      <th>Posted</th>\n",
       "    </tr>\n",
       "  </thead>\n",
       "  <tbody>\n",
       "    <tr>\n",
       "      <th>0</th>\n",
       "      <td>Python  Engineer</td>\n",
       "      <td>EAST INDIA SECURITIES LTD.</td>\n",
       "      <td>job_description   2  years of experience worki...</td>\n",
       "      <td>python,hadoop,machinelearning</td>\n",
       "      <td>2 - 5 yrs</td>\n",
       "      <td>Kolkata</td>\n",
       "      <td>http://www.eisec.com/</td>\n",
       "      <td>IT Software : Software Products &amp; Services</td>\n",
       "      <td>Petroleum/Oil and Gas/Power,  Construction/Cem...</td>\n",
       "      <td>Software Engineer</td>\n",
       "      <td>Any Graduate</td>\n",
       "      <td>None</td>\n",
       "      <td>Work from Office</td>\n",
       "      <td>5 days</td>\n",
       "    </tr>\n",
       "  </tbody>\n",
       "</table>\n",
       "</div>"
      ],
      "text/plain": [
       "           Job Name                Company Name  \\\n",
       "0  Python  Engineer  EAST INDIA SECURITIES LTD.   \n",
       "\n",
       "                                                  JD  \\\n",
       "0  job_description   2  years of experience worki...   \n",
       "\n",
       "                          Skills        YOE Location                Website  \\\n",
       "0  python,hadoop,machinelearning  2 - 5 yrs  Kolkata  http://www.eisec.com/   \n",
       "\n",
       "                                 Job Function  \\\n",
       "0  IT Software : Software Products & Services   \n",
       "\n",
       "                                            Industry     Specialization  \\\n",
       "0  Petroleum/Oil and Gas/Power,  Construction/Cem...  Software Engineer   \n",
       "\n",
       "  Qualification Vacancies     Work Location  Posted  \n",
       "0  Any Graduate      None  Work from Office  5 days  "
      ]
     },
     "execution_count": 22,
     "metadata": {},
     "output_type": "execute_result"
    }
   ],
   "source": [
    "q1 = \"\"\"SELECT * \n",
    "       FROM vacancies LIMIT 1;\"\"\"\n",
    "\n",
    "names = pysqldf(q1)\n",
    "names"
   ]
  },
  {
   "cell_type": "markdown",
   "id": "e7c1b3ac-ba37-4f4c-b999-b0c2bdf1344d",
   "metadata": {},
   "source": [
    "**Step 9 : Min years of experience required**"
   ]
  },
  {
   "cell_type": "code",
   "execution_count": 23,
   "id": "220a9a9d-12ad-41d7-a589-b1b610de703b",
   "metadata": {},
   "outputs": [],
   "source": [
    "# Getting the min years of experience required for job\n",
    "\n",
    "pattern = r\"(\\d+)\\s*-\\s*(\\d+)\\s*(?:years|yrs)\"\n",
    "\n",
    "def extract_min_experience(exp_str):\n",
    "    match = re.search(pattern, exp_str)\n",
    "    if match:\n",
    "        return int(match.group(1))\n",
    "    else:\n",
    "        return None"
   ]
  },
  {
   "cell_type": "code",
   "execution_count": 24,
   "id": "5ce313bb-9dd1-4e58-844f-2aca0e647ff8",
   "metadata": {},
   "outputs": [],
   "source": [
    "# Applying the function to get a new column with min years of exp\n",
    "\n",
    "vacancies['min_years_experience'] = vacancies['YOE'].apply(extract_min_experience)"
   ]
  },
  {
   "cell_type": "code",
   "execution_count": 25,
   "id": "41030b48-7fb3-4464-bd75-10fc8e5f8c53",
   "metadata": {},
   "outputs": [
    {
     "data": {
      "text/html": [
       "<div>\n",
       "<style scoped>\n",
       "    .dataframe tbody tr th:only-of-type {\n",
       "        vertical-align: middle;\n",
       "    }\n",
       "\n",
       "    .dataframe tbody tr th {\n",
       "        vertical-align: top;\n",
       "    }\n",
       "\n",
       "    .dataframe thead th {\n",
       "        text-align: right;\n",
       "    }\n",
       "</style>\n",
       "<table border=\"1\" class=\"dataframe\">\n",
       "  <thead>\n",
       "    <tr style=\"text-align: right;\">\n",
       "      <th></th>\n",
       "      <th>Job Name</th>\n",
       "      <th>Company Name</th>\n",
       "      <th>JD</th>\n",
       "      <th>Skills</th>\n",
       "      <th>YOE</th>\n",
       "      <th>Location</th>\n",
       "      <th>Website</th>\n",
       "      <th>Job Function</th>\n",
       "      <th>Industry</th>\n",
       "      <th>Specialization</th>\n",
       "      <th>Qualification</th>\n",
       "      <th>Vacancies</th>\n",
       "      <th>Work Location</th>\n",
       "      <th>Posted</th>\n",
       "      <th>min_years_experience</th>\n",
       "    </tr>\n",
       "  </thead>\n",
       "  <tbody>\n",
       "    <tr>\n",
       "      <th>0</th>\n",
       "      <td>Python  Engineer</td>\n",
       "      <td>EAST INDIA SECURITIES LTD.</td>\n",
       "      <td>job_description   2  years of experience worki...</td>\n",
       "      <td>python,hadoop,machinelearning</td>\n",
       "      <td>2 - 5 yrs</td>\n",
       "      <td>Kolkata</td>\n",
       "      <td>http://www.eisec.com/</td>\n",
       "      <td>IT Software : Software Products &amp; Services</td>\n",
       "      <td>Petroleum/Oil and Gas/Power,  Construction/Cem...</td>\n",
       "      <td>Software Engineer</td>\n",
       "      <td>Any Graduate</td>\n",
       "      <td>NaN</td>\n",
       "      <td>Work from Office</td>\n",
       "      <td>5 days</td>\n",
       "      <td>2</td>\n",
       "    </tr>\n",
       "    <tr>\n",
       "      <th>1</th>\n",
       "      <td>Python  Developer</td>\n",
       "      <td>DREAMAJAX TECHNOLOGIES</td>\n",
       "      <td>PYTHON DEVELOPER B.E / B.Tech / MCA / M.Sc., o...</td>\n",
       "      <td>python,django,api,sql,nosql</td>\n",
       "      <td>4 - 7 yrs</td>\n",
       "      <td>Bengaluru / Bangalore</td>\n",
       "      <td>NaN</td>\n",
       "      <td>IT Software : Software Products &amp; Services</td>\n",
       "      <td>Telecom,  IT-Hardware/Networking</td>\n",
       "      <td>Software Engineer</td>\n",
       "      <td>MCA/ PGDCA\\r\\n                    \\r\\n        ...</td>\n",
       "      <td>NaN</td>\n",
       "      <td>Work from Office</td>\n",
       "      <td>6 days</td>\n",
       "      <td>4</td>\n",
       "    </tr>\n",
       "  </tbody>\n",
       "</table>\n",
       "</div>"
      ],
      "text/plain": [
       "            Job Name                Company Name  \\\n",
       "0   Python  Engineer  EAST INDIA SECURITIES LTD.   \n",
       "1  Python  Developer      DREAMAJAX TECHNOLOGIES   \n",
       "\n",
       "                                                  JD  \\\n",
       "0  job_description   2  years of experience worki...   \n",
       "1  PYTHON DEVELOPER B.E / B.Tech / MCA / M.Sc., o...   \n",
       "\n",
       "                          Skills        YOE               Location  \\\n",
       "0  python,hadoop,machinelearning  2 - 5 yrs                Kolkata   \n",
       "1    python,django,api,sql,nosql  4 - 7 yrs  Bengaluru / Bangalore   \n",
       "\n",
       "                 Website                                Job Function  \\\n",
       "0  http://www.eisec.com/  IT Software : Software Products & Services   \n",
       "1                    NaN  IT Software : Software Products & Services   \n",
       "\n",
       "                                            Industry     Specialization  \\\n",
       "0  Petroleum/Oil and Gas/Power,  Construction/Cem...  Software Engineer   \n",
       "1                   Telecom,  IT-Hardware/Networking  Software Engineer   \n",
       "\n",
       "                                       Qualification  Vacancies  \\\n",
       "0                                       Any Graduate        NaN   \n",
       "1  MCA/ PGDCA\\r\\n                    \\r\\n        ...        NaN   \n",
       "\n",
       "      Work Location  Posted  min_years_experience  \n",
       "0  Work from Office  5 days                     2  \n",
       "1  Work from Office  6 days                     4  "
      ]
     },
     "execution_count": 25,
     "metadata": {},
     "output_type": "execute_result"
    }
   ],
   "source": [
    "vacancies.head(2)"
   ]
  },
  {
   "cell_type": "markdown",
   "id": "a439cf41-703a-40f7-be51-4227817c46b1",
   "metadata": {},
   "source": [
    "## Exploratory Data Analysis"
   ]
  },
  {
   "cell_type": "markdown",
   "id": "8118e889-bec2-4de6-8e32-acd85ca53af8",
   "metadata": {},
   "source": [
    "**1 : Location with most & least jobs**"
   ]
  },
  {
   "cell_type": "code",
   "execution_count": 26,
   "id": "3a60575d-ce34-4c05-b27b-2c2eb3cb350f",
   "metadata": {},
   "outputs": [],
   "source": [
    "# get the count of job names by location\n",
    "\n",
    "location_count = vacancies.groupby('Location')['Job Name'].count().reset_index()"
   ]
  },
  {
   "cell_type": "code",
   "execution_count": 27,
   "id": "fa1b5ee1-a736-47b8-b1ae-cdf286df4e51",
   "metadata": {},
   "outputs": [],
   "source": [
    "# Location with most Jobs\n",
    "\n",
    "max_location = location_count.loc[location_count['Job Name'].idxmax()]"
   ]
  },
  {
   "cell_type": "code",
   "execution_count": 28,
   "id": "a1900bd7-fb35-4b76-991e-b79cf5a29190",
   "metadata": {},
   "outputs": [],
   "source": [
    "# Location with min Jobs\n",
    "\n",
    "min_location = location_count.loc[location_count['Job Name'].idxmin()]"
   ]
  },
  {
   "cell_type": "code",
   "execution_count": 29,
   "id": "6c6fd832-b4cd-41d2-ae88-9ae4e331a6dc",
   "metadata": {},
   "outputs": [
    {
     "name": "stdout",
     "output_type": "stream",
     "text": [
      "Location with the most job names: Bengaluru / Bangalore (412 job names)\n",
      "Location with the least job names: Ahmedabad,  Bengaluru / Bangalore (1 job names)\n"
     ]
    }
   ],
   "source": [
    "# Print max & min values\n",
    "\n",
    "print(f\"Location with the most job names: {max_location['Location']} ({max_location['Job Name']} job names)\")\n",
    "print(f\"Location with the least job names: {min_location['Location']} ({min_location['Job Name']} job names)\")"
   ]
  },
  {
   "cell_type": "markdown",
   "id": "1dabdc0c-d5f1-4be2-a320-45cc64c19759",
   "metadata": {},
   "source": [
    "**2. Industry with max & min jobs**"
   ]
  },
  {
   "cell_type": "code",
   "execution_count": 30,
   "id": "c476ef41-fb94-4495-b7c5-8128ffc6c84c",
   "metadata": {},
   "outputs": [],
   "source": [
    "# get the count of job names by industry\n",
    "\n",
    "industry_count = vacancies.groupby('Industry')['Job Name'].count().reset_index()"
   ]
  },
  {
   "cell_type": "code",
   "execution_count": 31,
   "id": "fd5fdf29-71b3-49cd-87f3-c8beaa4157fb",
   "metadata": {},
   "outputs": [],
   "source": [
    "# Industry with most jobs\n",
    "\n",
    "max_industries = industry_count.loc[industry_count['Job Name'].idxmax()]"
   ]
  },
  {
   "cell_type": "code",
   "execution_count": 32,
   "id": "4e14aa8d-f2eb-4a94-88c9-15d2ed1729a8",
   "metadata": {},
   "outputs": [],
   "source": [
    "# Industry with min jobs\n",
    "\n",
    "min_industries = industry_count.loc[industry_count['Job Name'].idxmin()]"
   ]
  },
  {
   "cell_type": "code",
   "execution_count": 33,
   "id": "d855804d-1038-4b62-a448-bb73da3549ee",
   "metadata": {},
   "outputs": [
    {
     "name": "stdout",
     "output_type": "stream",
     "text": [
      "Industry with the most job names: IT-Hardware/Networking,  Telecom (1072 job names)\n",
      "Industry with the least job names: Accounting-Tax/Consulting,  Advertising/PR/Event Management (1 job names)\n"
     ]
    }
   ],
   "source": [
    "# Print the Industry with Max and Min jobs\n",
    "\n",
    "print(f\"Industry with the most job names: {max_industries['Industry']} ({max_industries['Job Name']} job names)\")\n",
    "print(f\"Industry with the least job names: {min_industries['Industry']} ({min_industries['Job Name']} job names)\")"
   ]
  },
  {
   "cell_type": "markdown",
   "id": "aaae449c-a74d-4a98-acf8-a43d865e09b2",
   "metadata": {},
   "source": [
    "**3. Specilization with most jobs**"
   ]
  },
  {
   "cell_type": "code",
   "execution_count": 34,
   "id": "5da650b3-7e5c-4436-aaa2-3868bb2bacea",
   "metadata": {},
   "outputs": [],
   "source": [
    "# get the count of jobs by specilization\n",
    "\n",
    "specialization_count = vacancies.groupby('Specialization')['Job Name'].count().reset_index()"
   ]
  },
  {
   "cell_type": "code",
   "execution_count": 35,
   "id": "ace8e61d-d682-413b-81ac-bdd2a98a7833",
   "metadata": {},
   "outputs": [],
   "source": [
    "# Industry with most jobs\n",
    "\n",
    "max_specializations = specialization_count.loc[specialization_count['Job Name'].idxmax()]"
   ]
  },
  {
   "cell_type": "code",
   "execution_count": 36,
   "id": "fef89e0e-292f-4f9a-a932-0a105a7a424f",
   "metadata": {},
   "outputs": [
    {
     "name": "stdout",
     "output_type": "stream",
     "text": [
      "Specilization with the most job names: Software Engineer (1654 job names)\n"
     ]
    }
   ],
   "source": [
    "# Print the Specilization with Max jobs\n",
    "\n",
    "print(f\"Specilization with the most job names: {max_specializations['Specialization']} ({max_specializations['Job Name']} job names)\")"
   ]
  },
  {
   "cell_type": "markdown",
   "id": "6801087e-8279-4972-bd19-4a70a4236bf4",
   "metadata": {},
   "source": [
    "**4. Most required skills across various Industries**"
   ]
  },
  {
   "cell_type": "code",
   "execution_count": 37,
   "id": "942bfb87-54a7-44ee-9646-114f005351b9",
   "metadata": {},
   "outputs": [],
   "source": [
    "Temp_df = vacancies"
   ]
  },
  {
   "cell_type": "code",
   "execution_count": 38,
   "id": "f7f78573-32c8-4a90-a332-a0e30f01e859",
   "metadata": {},
   "outputs": [],
   "source": [
    "# Splitting Skills into Individual Rows\n",
    "\n",
    "skills = Temp_df['Skills'].str.split(',',expand=True).stack().reset_index(level=1, drop=True).rename('Skill')\n",
    "skills = Temp_df.drop('Skills', axis = 1).join(skills).reset_index(drop=True)"
   ]
  },
  {
   "cell_type": "code",
   "execution_count": 39,
   "id": "12b23881-2289-4cad-a042-02038fdc7822",
   "metadata": {},
   "outputs": [
    {
     "name": "stdout",
     "output_type": "stream",
     "text": [
      "Skill\n",
      "javascript         838\n",
      "css                658\n",
      "html               648\n",
      "java               449\n",
      "jquery             400\n",
      "                  ... \n",
      "teamleader           1\n",
      "tallyaccounting      1\n",
      "e                    1\n",
      "emailwriting         1\n",
      "dispatch             1\n",
      "Name: count, Length: 1724, dtype: int64\n"
     ]
    }
   ],
   "source": [
    "# Get the most required skills\n",
    "\n",
    "skill_count = skills['Skill'].value_counts()\n",
    "print(skill_count)"
   ]
  },
  {
   "cell_type": "code",
   "execution_count": 40,
   "id": "f8dbc7c4-2e3b-4e22-bf14-88c9fdb0de18",
   "metadata": {},
   "outputs": [
    {
     "name": "stdout",
     "output_type": "stream",
     "text": [
      "373\n"
     ]
    }
   ],
   "source": [
    "# checking for python\n",
    "\n",
    "python_requirements = (skills['Skill'] == 'python').sum()\n",
    "print(python_requirements)"
   ]
  },
  {
   "cell_type": "markdown",
   "id": "05d416cf-9177-41d5-9872-d28fe2b88dcb",
   "metadata": {},
   "source": [
    "**5. Company Requirement Trend**"
   ]
  },
  {
   "cell_type": "code",
   "execution_count": 42,
   "id": "e1748d96-2a43-4c97-8882-c276b886d5c7",
   "metadata": {},
   "outputs": [],
   "source": [
    "# get the count of job names by company\n",
    "\n",
    "company_count = vacancies.groupby('Company Name')['Job Name'].count().reset_index()"
   ]
  },
  {
   "cell_type": "code",
   "execution_count": 43,
   "id": "967fdf1e-d667-4cfd-82d1-c211e832326a",
   "metadata": {},
   "outputs": [
    {
     "name": "stdout",
     "output_type": "stream",
     "text": [
      "Companies with the most job names: HYREFOX CONSULTANTS (67 job names)\n",
      "Companies with the least job names: 2ASQUARE INFOTECH STUDIOS (1 job names)\n"
     ]
    }
   ],
   "source": [
    "# companies with max and least jobs\n",
    "\n",
    "max_req_comp = company_count.loc[company_count['Job Name'].idxmax()]\n",
    "min_req_comp = company_count.loc[company_count['Job Name'].idxmin()]\n",
    "\n",
    "print(f\"Companies with the most job names: {max_req_comp['Company Name']} ({max_req_comp['Job Name']} job names)\")\n",
    "print(f\"Companies with the least job names: {min_req_comp['Company Name']} ({min_req_comp['Job Name']} job names)\")"
   ]
  },
  {
   "cell_type": "markdown",
   "id": "586e1df6-2f5a-4151-a3b0-ac0a07d730ee",
   "metadata": {},
   "source": [
    "**6. Recent Job Buckets**"
   ]
  },
  {
   "cell_type": "code",
   "execution_count": 45,
   "id": "d3e90d2f-1c35-48ba-9460-558a587a2143",
   "metadata": {},
   "outputs": [],
   "source": [
    "# Getting the recent job buckets using posted column\n",
    "\n",
    "job_bucket = vacancies['Posted'].value_counts().sort_index()"
   ]
  },
  {
   "cell_type": "code",
   "execution_count": 46,
   "id": "cf7778c6-2eb5-4b43-8109-d8fb8e2a57bf",
   "metadata": {},
   "outputs": [
    {
     "name": "stdout",
     "output_type": "stream",
     "text": [
      "Posted\n",
      "1 days         30\n",
      "2 days         69\n",
      "3 days         50\n",
      "4 days         64\n",
      "5 days         83\n",
      "6 days        676\n",
      "few days     1160\n",
      "month ago     118\n",
      "Name: count, dtype: int64\n"
     ]
    }
   ],
   "source": [
    "print(job_bucket)"
   ]
  }
 ],
 "metadata": {
  "kernelspec": {
   "display_name": "Python 3 (ipykernel)",
   "language": "python",
   "name": "python3"
  },
  "language_info": {
   "codemirror_mode": {
    "name": "ipython",
    "version": 3
   },
   "file_extension": ".py",
   "mimetype": "text/x-python",
   "name": "python",
   "nbconvert_exporter": "python",
   "pygments_lexer": "ipython3",
   "version": "3.12.4"
  }
 },
 "nbformat": 4,
 "nbformat_minor": 5
}
